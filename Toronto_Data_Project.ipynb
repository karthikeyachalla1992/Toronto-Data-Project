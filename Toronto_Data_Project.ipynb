{
 "cells": [
  {
   "cell_type": "code",
   "execution_count": 1,
   "metadata": {},
   "outputs": [],
   "source": [
    "# importing the required libraries\n",
    "\n",
    "from bs4 import BeautifulSoup \n",
    "import requests\n",
    "import pandas as pd"
   ]
  },
  {
   "cell_type": "code",
   "execution_count": 2,
   "metadata": {},
   "outputs": [],
   "source": [
    "# souce is the website url and .text() is used for parsing the html code of the webpage\n",
    "# reading the table using the 'table' attribute of the HTML\n",
    "# reaidng each row using 'tr' attribute of the HTML\n",
    "\n",
    "source = requests.get('https://en.wikipedia.org/wiki/List_of_postal_codes_of_Canada:_M').text \n",
    "soup = BeautifulSoup(source,'lxml')\n",
    "table = soup.find('table').tbody\n",
    "rows = table.find_all('tr')"
   ]
  },
  {
   "cell_type": "code",
   "execution_count": 3,
   "metadata": {},
   "outputs": [
    {
     "data": {
      "text/html": [
       "<div>\n",
       "<style scoped>\n",
       "    .dataframe tbody tr th:only-of-type {\n",
       "        vertical-align: middle;\n",
       "    }\n",
       "\n",
       "    .dataframe tbody tr th {\n",
       "        vertical-align: top;\n",
       "    }\n",
       "\n",
       "    .dataframe thead th {\n",
       "        text-align: right;\n",
       "    }\n",
       "</style>\n",
       "<table border=\"1\" class=\"dataframe\">\n",
       "  <thead>\n",
       "    <tr style=\"text-align: right;\">\n",
       "      <th></th>\n",
       "      <th>Postal code</th>\n",
       "      <th>Borough</th>\n",
       "      <th>Neighborhood</th>\n",
       "    </tr>\n",
       "  </thead>\n",
       "  <tbody>\n",
       "  </tbody>\n",
       "</table>\n",
       "</div>"
      ],
      "text/plain": [
       "Empty DataFrame\n",
       "Columns: [Postal code, Borough, Neighborhood]\n",
       "Index: []"
      ]
     },
     "execution_count": 3,
     "metadata": {},
     "output_type": "execute_result"
    }
   ],
   "source": [
    "# extracting the table headers from the html \n",
    "# table headers are in the first row of the 'rows' generated above\n",
    "# column headers are extracted from that\n",
    "# creating the data frame from the table --> tdf stands for toronto data frame\n",
    "# tdf for now only contains the column headers\n",
    "\n",
    "column_headers = [v.text.replace('\\n','') for v in rows[0].find_all('th')] \n",
    "\n",
    "tdf = pd.DataFrame(columns=column_headers)\n",
    "tdf"
   ]
  },
  {
   "cell_type": "code",
   "execution_count": 6,
   "metadata": {},
   "outputs": [],
   "source": [
    "# creating the new dataframe from the table, ignoring the rows where borough = not assigned\n",
    "\n",
    "for i in range(1,len(rows)):\n",
    "    row = [data.text.replace('\\n','') for data in rows[i].find_all('td')]\n",
    "    \n",
    "    # assigning the empty neighborhoods to the names of the Boroughs\n",
    "    \n",
    "    if row[2]=='' or row[2]=='Not assigned':\n",
    "        row[2]=row[1]                       \n",
    "        \n",
    "    # ignoring all the rows with Boroughs = Not Assigned   \n",
    "    \n",
    "    if row[1]!='Not assigned': \n",
    "        rowdf = pd.DataFrame([row],columns=column_headers)       \n",
    "            \n",
    "    tdf = tdf.append(rowdf, ignore_index=True) \n",
    "\n",
    "# dropping the rows with duplicate postal codes\n",
    "#tdf.drop_duplicates(subset = 'Postal code', inplace=True, ignore_index = True)\n"
   ]
  },
  {
   "cell_type": "code",
   "execution_count": 5,
   "metadata": {},
   "outputs": [
    {
     "data": {
      "text/plain": [
       "(0, 3)"
      ]
     },
     "execution_count": 5,
     "metadata": {},
     "output_type": "execute_result"
    }
   ],
   "source": [
    "# dataframe and the shape\n",
    "\n",
    "tdf\n",
    "\n",
    "tdf.shape"
   ]
  }
 ],
 "metadata": {
  "kernelspec": {
   "display_name": "Python 3",
   "language": "python",
   "name": "python3"
  },
  "language_info": {
   "codemirror_mode": {
    "name": "ipython",
    "version": 3
   },
   "file_extension": ".py",
   "mimetype": "text/x-python",
   "name": "python",
   "nbconvert_exporter": "python",
   "pygments_lexer": "ipython3",
   "version": "3.7.6"
  }
 },
 "nbformat": 4,
 "nbformat_minor": 4
}
